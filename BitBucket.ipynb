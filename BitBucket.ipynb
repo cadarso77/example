{
  "nbformat": 4,
  "nbformat_minor": 0,
  "metadata": {
    "colab": {
      "name": "BitBucket.ipynb",
      "version": "0.3.2",
      "provenance": [],
      "toc_visible": true,
      "include_colab_link": true
    },
    "kernelspec": {
      "name": "python3",
      "display_name": "Python 3"
    }
  },
  "cells": [
    {
      "cell_type": "markdown",
      "metadata": {
        "id": "view-in-github",
        "colab_type": "text"
      },
      "source": [
        "<a href=\"https://colab.research.google.com/github/cadarso77/example/blob/master/BitBucket.ipynb\" target=\"_parent\"><img src=\"https://colab.research.google.com/assets/colab-badge.svg\" alt=\"Open In Colab\"/></a>"
      ]
    },
    {
      "metadata": {
        "id": "bqOGLFaAjzah",
        "colab_type": "code",
        "colab": {}
      },
      "cell_type": "code",
      "source": [
        "!git config --global user.name \"Manuel Salamanca\""
      ],
      "execution_count": 0,
      "outputs": []
    },
    {
      "metadata": {
        "id": "euik7tgwj3_m",
        "colab_type": "code",
        "colab": {}
      },
      "cell_type": "code",
      "source": [
        "!git config --global user.email \"manuel.salamanca@teliacompany.com\""
      ],
      "execution_count": 0,
      "outputs": []
    },
    {
      "metadata": {
        "id": "H6YBm6rMkLdR",
        "colab_type": "code",
        "colab": {
          "base_uri": "https://localhost:8080/",
          "height": 71
        },
        "outputId": "c1981f9f-6a47-47d2-d395-469a1e8d7a5e"
      },
      "cell_type": "code",
      "source": [
        "!git clone https://diva.teliacompany.net/bitbucket/scm/~rgy387/example.git\n"
      ],
      "execution_count": 3,
      "outputs": [
        {
          "output_type": "stream",
          "text": [
            "Cloning into 'example'...\n",
            "fatal: unable to access 'https://diva.teliacompany.net/bitbucket/scm/~rgy387/example.git/': Failed to connect to diva.teliacompany.net port 443: Connection timed out\n"
          ],
          "name": "stdout"
        }
      ]
    },
    {
      "metadata": {
        "id": "eOdzTWxWk122",
        "colab_type": "code",
        "colab": {}
      },
      "cell_type": "code",
      "source": [
        "AASDDA"
      ],
      "execution_count": 0,
      "outputs": []
    },
    {
      "metadata": {
        "id": "QXThMIk5nU40",
        "colab_type": "code",
        "colab": {}
      },
      "cell_type": "code",
      "source": [
        "ADASDAWEW"
      ],
      "execution_count": 0,
      "outputs": []
    }
  ]
}